{
 "cells": [
  {
   "cell_type": "code",
   "execution_count": 1,
   "metadata": {},
   "outputs": [
    {
     "name": "stdout",
     "output_type": "stream",
     "text": [
      "Initial data:\n",
      "    age  salary  gender purchased\n",
      "0  25.0   50000    male       yes\n",
      "1  30.0   60000  female        no\n",
      "2  35.0   70000  female       yes\n",
      "3  40.0   80000    None        no\n",
      "4   NaN   90000    male       yes\n",
      "\n",
      "Data after handling missing values:\n",
      "    age  salary  gender purchased\n",
      "0  25.0   50000    male       yes\n",
      "1  30.0   60000  female        no\n",
      "2  35.0   70000  female       yes\n",
      "3  40.0   80000  female        no\n",
      "4  32.5   90000    male       yes\n",
      "\n",
      "Data after encoding categorical variables:\n",
      "    age  salary  gender_male  purchased_yes\n",
      "0  25.0   50000         True           True\n",
      "1  30.0   60000        False          False\n",
      "2  35.0   70000        False           True\n",
      "3  40.0   80000        False          False\n",
      "4  32.5   90000         True           True\n",
      "\n",
      "Data after scaling numerical features:\n",
      "        age    salary  gender_male  purchased_yes\n",
      "0 -1.341641 -1.264911         True           True\n",
      "1 -0.447214 -0.632456        False          False\n",
      "2  0.447214  0.000000        False           True\n",
      "3  1.341641  0.632456        False          False\n",
      "4  0.000000  1.264911         True           True\n",
      "\n",
      "Data with new feature:\n",
      "        age    salary  gender_male  purchased_yes  age_salary_interaction\n",
      "0 -1.341641 -1.264911         True           True                1.697056\n",
      "1 -0.447214 -0.632456        False          False                0.282843\n",
      "2  0.447214  0.000000        False           True                0.000000\n",
      "3  1.341641  0.632456        False          False                0.848528\n",
      "4  0.000000  1.264911         True           True                0.000000\n"
     ]
    },
    {
     "name": "stderr",
     "output_type": "stream",
     "text": [
      "C:\\Users\\Shreya\\AppData\\Local\\Temp\\ipykernel_11048\\3255373009.py:16: FutureWarning: A value is trying to be set on a copy of a DataFrame or Series through chained assignment using an inplace method.\n",
      "The behavior will change in pandas 3.0. This inplace method will never work because the intermediate object on which we are setting values always behaves as a copy.\n",
      "\n",
      "For example, when doing 'df[col].method(value, inplace=True)', try using 'df.method({col: value}, inplace=True)' or df[col] = df[col].method(value) instead, to perform the operation inplace on the original object.\n",
      "\n",
      "\n",
      "  data['age'].fillna(data['age'].median(), inplace=True)\n",
      "C:\\Users\\Shreya\\AppData\\Local\\Temp\\ipykernel_11048\\3255373009.py:17: FutureWarning: A value is trying to be set on a copy of a DataFrame or Series through chained assignment using an inplace method.\n",
      "The behavior will change in pandas 3.0. This inplace method will never work because the intermediate object on which we are setting values always behaves as a copy.\n",
      "\n",
      "For example, when doing 'df[col].method(value, inplace=True)', try using 'df.method({col: value}, inplace=True)' or df[col] = df[col].method(value) instead, to perform the operation inplace on the original object.\n",
      "\n",
      "\n",
      "  data['gender'].fillna(data['gender'].mode()[0], inplace=True)\n"
     ]
    }
   ],
   "source": [
    "import pandas as pd\n",
    "\n",
    "# Generate sample data\n",
    "data = pd.DataFrame({\n",
    "    'age': [25, 30, 35, 40, None],\n",
    "    'salary': [50000, 60000, 70000, 80000, 90000],\n",
    "    'gender': ['male', 'female', 'female', None, 'male'],\n",
    "    'purchased': ['yes', 'no', 'yes', 'no', 'yes']\n",
    "})\n",
    "\n",
    "# Display the initial data\n",
    "print(\"Initial data:\")\n",
    "print(data)\n",
    "\n",
    "# Handle missing values by filling with median for numerical and mode for categorical\n",
    "data['age'].fillna(data['age'].median(), inplace=True)\n",
    "data['gender'].fillna(data['gender'].mode()[0], inplace=True)\n",
    "\n",
    "print(\"\\nData after handling missing values:\")\n",
    "print(data)\n",
    "\n",
    "# Encode categorical variables using one-hot encoding\n",
    "data_encoded = pd.get_dummies(data, columns=['gender', 'purchased'], drop_first=True)\n",
    "\n",
    "print(\"\\nData after encoding categorical variables:\")\n",
    "print(data_encoded)\n",
    "\n",
    "# Scale numerical features\n",
    "data_encoded['age'] = (data_encoded['age'] - data_encoded['age'].mean()) / data_encoded['age'].std()\n",
    "data_encoded['salary'] = (data_encoded['salary'] - data_encoded['salary'].mean()) / data_encoded['salary'].std()\n",
    "\n",
    "print(\"\\nData after scaling numerical features:\")\n",
    "print(data_encoded)\n",
    "\n",
    "# Create new features (example: interaction term)\n",
    "data_encoded['age_salary_interaction'] = data_encoded['age'] * data_encoded['salary']\n",
    "\n",
    "print(\"\\nData with new feature:\")\n",
    "print(data_encoded)\n"
   ]
  }
 ],
 "metadata": {
  "kernelspec": {
   "display_name": ".venv",
   "language": "python",
   "name": "python3"
  },
  "language_info": {
   "codemirror_mode": {
    "name": "ipython",
    "version": 3
   },
   "file_extension": ".py",
   "mimetype": "text/x-python",
   "name": "python",
   "nbconvert_exporter": "python",
   "pygments_lexer": "ipython3",
   "version": "3.12.0"
  }
 },
 "nbformat": 4,
 "nbformat_minor": 2
}
